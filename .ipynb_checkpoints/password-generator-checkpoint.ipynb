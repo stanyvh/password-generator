{
 "cells": [
  {
   "cell_type": "code",
   "execution_count": null,
   "id": "4da3faf8",
   "metadata": {},
   "outputs": [],
   "source": [
    "def passwordcreator():\n",
    "    \"\"\" This function creates a password containing 2 passwords of \n",
    "    variable length, seperated by a space. \"\"\"\n",
    "    # The random length of the two passwords is defined. \n",
    "    length = randint(4, 5)\n",
    "    # Defining password variables. \n",
    "    password1, password2 = \"\", \"\"\n",
    "    # For every value in the length of our two passwords: \n",
    "    for i in range(length):\n",
    "        # The chr() method returns a character (a string) based on an integer. \n",
    "        # In this case we randomly select the integers. (based on unicode)\n",
    "        # The first character is defined.\n",
    "        ch1 = chr(randint(33, 126))\n",
    "        # The character is defined to the string.\n",
    "        password1 = password1 + ch1\n",
    "        ch2 = chr(randint(33, 126))\n",
    "        password2 = password2 + ch2\n",
    "        \n",
    "    # We end up with two randomly chosen passwords and add them together. \n",
    "    return password1 + ' ' + password2"
   ]
  }
 ],
 "metadata": {
  "kernelspec": {
   "display_name": "Python 3",
   "language": "python",
   "name": "python3"
  },
  "language_info": {
   "codemirror_mode": {
    "name": "ipython",
    "version": 3
   },
   "file_extension": ".py",
   "mimetype": "text/x-python",
   "name": "python",
   "nbconvert_exporter": "python",
   "pygments_lexer": "ipython3",
   "version": "3.8.8"
  }
 },
 "nbformat": 4,
 "nbformat_minor": 5
}
